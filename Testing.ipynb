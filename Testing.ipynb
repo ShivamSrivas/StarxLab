{
 "cells": [
  {
   "cell_type": "code",
   "execution_count": 2,
   "id": "a9a04649",
   "metadata": {},
   "outputs": [],
   "source": [
    "class Task:#Created a class named as [Task]\n",
    "    def Customer(self,a,b):#created a method\n",
    "        \"\"\"\n",
    "        Write a function which takes two arguments: a list of customers and the number of open cash registers. Each customer is represented by an integer which indicates the amount of time needed to checkout. Assuming that customers are served in their original order, your function should output the minimum time required to serve all customers.\n",
    "        Example:\n",
    "        get_checkout_time([5, 1, 3], 1) should return 9\n",
    "        get_checkout_time([10, 3, 4, 2], 2) should return 10 because while the first register is busy serving customer[0] the second register can serve all remaining customers.\n",
    "        \"\"\"\n",
    "        customer=a\n",
    "        reg=b\n",
    "        Worst_time=0\n",
    "        local=0\n",
    "        if b==1:\n",
    "            for i in a:\n",
    "                Worst_time+=i\n",
    "            return Worst_time\n",
    "        else:\n",
    "            ma=max(customer)\n",
    "            customer.pop(customer.index(ma))\n",
    "            for i in customer:\n",
    "                local+=i\n",
    "            if local<=ma:\n",
    "                return ma\n",
    "            else:\n",
    "                return ma+min(customer)\n",
    "    def String_Function(self,a):#Created a Method named as \"String_Function\" to fulfill the giving condition\n",
    "        \"\"\"\n",
    "        Condition:\n",
    "        Return true if the string in the first element of the list contains all of the letters of the string in the second element of the\n",
    "        list.\n",
    "        examples\n",
    "        [\"hello\", \"Hello\"]\n",
    "        should return true because all of the letters in the second string are present in the first, ignoring case.\n",
    "        [\"hello\", \"hey\"]\n",
    "        should return false because the string \"hello\" does not contain a \"y\".\n",
    "        [\"Alien\", \"line\"]\n",
    "        should return true because all of the letters in \"line\" are present in \"Alien\".\n",
    "        \n",
    "        Parameter:Takes list as arguements\n",
    "        \n",
    "        \"\"\"\n",
    "        try:\n",
    "            count=True\n",
    "            first=str.lower(a[0])#Since there was no condition for lower and upper case,I converted both of them in lower case\n",
    "            second=str.lower(a[1])#Doing same here\n",
    "            for i in second:#Iterating one by one in second element['String'] in list\n",
    "                if i in first:#Checking the condition\n",
    "                    count=count*True#If true then multiply with \"True\"\n",
    "                else:\n",
    "                    count=count*False#Else multiply with false\n",
    "            return bool(count)#If Statisy all condition then return True else False\n",
    "        except Exception as e:\n",
    "            print(str(e))"
   ]
  },
  {
   "cell_type": "code",
   "execution_count": null,
   "id": "f0bce2c1",
   "metadata": {},
   "outputs": [],
   "source": []
  }
 ],
 "metadata": {
  "kernelspec": {
   "display_name": "Python 3 (ipykernel)",
   "language": "python",
   "name": "python3"
  },
  "language_info": {
   "codemirror_mode": {
    "name": "ipython",
    "version": 3
   },
   "file_extension": ".py",
   "mimetype": "text/x-python",
   "name": "python",
   "nbconvert_exporter": "python",
   "pygments_lexer": "ipython3",
   "version": "3.9.7"
  }
 },
 "nbformat": 4,
 "nbformat_minor": 5
}
